{
 "cells": [
  {
   "cell_type": "markdown",
   "metadata": {},
   "source": [
    "# Preliminary data preprocessing"
   ]
  },
  {
   "cell_type": "markdown",
   "metadata": {},
   "source": [
    "## Load data"
   ]
  },
  {
   "cell_type": "code",
   "execution_count": 83,
   "metadata": {
    "collapsed": false
   },
   "outputs": [],
   "source": [
    "import pandas as pd\n",
    "import numpy as np\n",
    "from matplotlib import pyplot as plt\n",
    "from pandasql import sqldf\n",
    "%matplotlib inline\n",
    "import seaborn\n",
    "from IPython.display import Image\n",
    "\n",
    "df = pd.read_csv(\"deezer.csv\", thousands=',')"
   ]
  },
  {
   "cell_type": "markdown",
   "metadata": {},
   "source": [
    "## Group by cohort and planet and sum"
   ]
  },
  {
   "cell_type": "code",
   "execution_count": 2,
   "metadata": {
    "collapsed": false
   },
   "outputs": [],
   "source": [
    "grouped = df.groupby(['Cohort', 'Planet']).aggregate(np.sum).reset_index()"
   ]
  },
  {
   "cell_type": "code",
   "execution_count": 3,
   "metadata": {
    "collapsed": false,
    "scrolled": true
   },
   "outputs": [
    {
     "data": {
      "text/html": [
       "<div>\n",
       "<table border=\"1\" class=\"dataframe\">\n",
       "  <thead>\n",
       "    <tr style=\"text-align: right;\">\n",
       "      <th></th>\n",
       "      <th>Cohort</th>\n",
       "      <th>Planet</th>\n",
       "      <th>M0</th>\n",
       "      <th>M1</th>\n",
       "      <th>M2</th>\n",
       "      <th>M3</th>\n",
       "      <th>M4</th>\n",
       "      <th>M5</th>\n",
       "      <th>M6</th>\n",
       "      <th>M7</th>\n",
       "      <th>...</th>\n",
       "      <th>M13</th>\n",
       "      <th>M14</th>\n",
       "      <th>M15</th>\n",
       "      <th>M16</th>\n",
       "      <th>M17</th>\n",
       "      <th>M18</th>\n",
       "      <th>M19</th>\n",
       "      <th>M20</th>\n",
       "      <th>M21</th>\n",
       "      <th>M22</th>\n",
       "    </tr>\n",
       "  </thead>\n",
       "  <tbody>\n",
       "    <tr>\n",
       "      <th>0</th>\n",
       "      <td>April-13</td>\n",
       "      <td>Earth</td>\n",
       "      <td>158228</td>\n",
       "      <td>141568</td>\n",
       "      <td>132076</td>\n",
       "      <td>125972</td>\n",
       "      <td>122304</td>\n",
       "      <td>118398</td>\n",
       "      <td>111846</td>\n",
       "      <td>109802</td>\n",
       "      <td>...</td>\n",
       "      <td>93632</td>\n",
       "      <td>91784</td>\n",
       "      <td>90034</td>\n",
       "      <td>88634</td>\n",
       "      <td>86394</td>\n",
       "      <td>82334</td>\n",
       "      <td>80234</td>\n",
       "      <td>0</td>\n",
       "      <td>0</td>\n",
       "      <td>0</td>\n",
       "    </tr>\n",
       "    <tr>\n",
       "      <th>1</th>\n",
       "      <td>April-13</td>\n",
       "      <td>Jupiter</td>\n",
       "      <td>8034</td>\n",
       "      <td>6578</td>\n",
       "      <td>5850</td>\n",
       "      <td>5577</td>\n",
       "      <td>5551</td>\n",
       "      <td>5330</td>\n",
       "      <td>5226</td>\n",
       "      <td>5252</td>\n",
       "      <td>...</td>\n",
       "      <td>4563</td>\n",
       "      <td>4472</td>\n",
       "      <td>4173</td>\n",
       "      <td>4121</td>\n",
       "      <td>4069</td>\n",
       "      <td>3861</td>\n",
       "      <td>3861</td>\n",
       "      <td>0</td>\n",
       "      <td>0</td>\n",
       "      <td>0</td>\n",
       "    </tr>\n",
       "    <tr>\n",
       "      <th>2</th>\n",
       "      <td>April-13</td>\n",
       "      <td>Mars</td>\n",
       "      <td>14952</td>\n",
       "      <td>12082</td>\n",
       "      <td>10794</td>\n",
       "      <td>9926</td>\n",
       "      <td>9310</td>\n",
       "      <td>8470</td>\n",
       "      <td>8078</td>\n",
       "      <td>7994</td>\n",
       "      <td>...</td>\n",
       "      <td>6566</td>\n",
       "      <td>6426</td>\n",
       "      <td>6370</td>\n",
       "      <td>6244</td>\n",
       "      <td>5964</td>\n",
       "      <td>5656</td>\n",
       "      <td>5614</td>\n",
       "      <td>0</td>\n",
       "      <td>0</td>\n",
       "      <td>0</td>\n",
       "    </tr>\n",
       "    <tr>\n",
       "      <th>3</th>\n",
       "      <td>April-13</td>\n",
       "      <td>Saturn</td>\n",
       "      <td>50256</td>\n",
       "      <td>42264</td>\n",
       "      <td>39195</td>\n",
       "      <td>36720</td>\n",
       "      <td>34920</td>\n",
       "      <td>33201</td>\n",
       "      <td>31923</td>\n",
       "      <td>30870</td>\n",
       "      <td>...</td>\n",
       "      <td>23778</td>\n",
       "      <td>23139</td>\n",
       "      <td>22590</td>\n",
       "      <td>22248</td>\n",
       "      <td>21636</td>\n",
       "      <td>20700</td>\n",
       "      <td>20106</td>\n",
       "      <td>0</td>\n",
       "      <td>0</td>\n",
       "      <td>0</td>\n",
       "    </tr>\n",
       "    <tr>\n",
       "      <th>4</th>\n",
       "      <td>April-13</td>\n",
       "      <td>Venus</td>\n",
       "      <td>11840</td>\n",
       "      <td>10300</td>\n",
       "      <td>9560</td>\n",
       "      <td>9450</td>\n",
       "      <td>8950</td>\n",
       "      <td>8680</td>\n",
       "      <td>8480</td>\n",
       "      <td>8220</td>\n",
       "      <td>...</td>\n",
       "      <td>7080</td>\n",
       "      <td>6910</td>\n",
       "      <td>6570</td>\n",
       "      <td>6310</td>\n",
       "      <td>6230</td>\n",
       "      <td>5920</td>\n",
       "      <td>5920</td>\n",
       "      <td>0</td>\n",
       "      <td>0</td>\n",
       "      <td>0</td>\n",
       "    </tr>\n",
       "  </tbody>\n",
       "</table>\n",
       "<p>5 rows × 25 columns</p>\n",
       "</div>"
      ],
      "text/plain": [
       "     Cohort   Planet      M0      M1      M2      M3      M4      M5      M6  \\\n",
       "0  April-13    Earth  158228  141568  132076  125972  122304  118398  111846   \n",
       "1  April-13  Jupiter    8034    6578    5850    5577    5551    5330    5226   \n",
       "2  April-13     Mars   14952   12082   10794    9926    9310    8470    8078   \n",
       "3  April-13   Saturn   50256   42264   39195   36720   34920   33201   31923   \n",
       "4  April-13    Venus   11840   10300    9560    9450    8950    8680    8480   \n",
       "\n",
       "       M7 ...     M13    M14    M15    M16    M17    M18    M19  M20  M21  M22  \n",
       "0  109802 ...   93632  91784  90034  88634  86394  82334  80234    0    0    0  \n",
       "1    5252 ...    4563   4472   4173   4121   4069   3861   3861    0    0    0  \n",
       "2    7994 ...    6566   6426   6370   6244   5964   5656   5614    0    0    0  \n",
       "3   30870 ...   23778  23139  22590  22248  21636  20700  20106    0    0    0  \n",
       "4    8220 ...    7080   6910   6570   6310   6230   5920   5920    0    0    0  \n",
       "\n",
       "[5 rows x 25 columns]"
      ]
     },
     "execution_count": 3,
     "metadata": {},
     "output_type": "execute_result"
    }
   ],
   "source": [
    "grouped.head()"
   ]
  },
  {
   "cell_type": "code",
   "execution_count": 73,
   "metadata": {
    "collapsed": false
   },
   "outputs": [],
   "source": [
    "# same thing using sql syntax\n",
    "sql_table = sqldf(\"SELECT Cohort, Planet, sum(M0), sum(M1) FROM df group by Cohort,Planet;\", globals()).head()"
   ]
  },
  {
   "cell_type": "markdown",
   "metadata": {},
   "source": [
    "## Reformat so that Cohort column is properly formated as a date"
   ]
  },
  {
   "cell_type": "code",
   "execution_count": 5,
   "metadata": {
    "collapsed": false
   },
   "outputs": [],
   "source": [
    "grouped.Cohort = pd.to_datetime(grouped.Cohort, format=\"%B-%y\")"
   ]
  },
  {
   "cell_type": "code",
   "execution_count": 82,
   "metadata": {
    "collapsed": false
   },
   "outputs": [
    {
     "data": {
      "text/html": [
       "<div>\n",
       "<table border=\"1\" class=\"dataframe\">\n",
       "  <thead>\n",
       "    <tr style=\"text-align: right;\">\n",
       "      <th></th>\n",
       "      <th>Cohort</th>\n",
       "      <th>Planet</th>\n",
       "      <th>M0</th>\n",
       "      <th>M1</th>\n",
       "      <th>M2</th>\n",
       "      <th>M3</th>\n",
       "      <th>M4</th>\n",
       "      <th>M5</th>\n",
       "      <th>M6</th>\n",
       "      <th>M7</th>\n",
       "      <th>...</th>\n",
       "      <th>M13</th>\n",
       "      <th>M14</th>\n",
       "      <th>M15</th>\n",
       "      <th>M16</th>\n",
       "      <th>M17</th>\n",
       "      <th>M18</th>\n",
       "      <th>M19</th>\n",
       "      <th>M20</th>\n",
       "      <th>M21</th>\n",
       "      <th>M22</th>\n",
       "    </tr>\n",
       "  </thead>\n",
       "  <tbody>\n",
       "    <tr>\n",
       "      <th>35</th>\n",
       "      <td>2013-01-01</td>\n",
       "      <td>Earth</td>\n",
       "      <td>127020</td>\n",
       "      <td>111528</td>\n",
       "      <td>102456</td>\n",
       "      <td>97512</td>\n",
       "      <td>94140</td>\n",
       "      <td>90432</td>\n",
       "      <td>86124</td>\n",
       "      <td>84732</td>\n",
       "      <td>...</td>\n",
       "      <td>72144</td>\n",
       "      <td>70368</td>\n",
       "      <td>68052</td>\n",
       "      <td>65628</td>\n",
       "      <td>64332</td>\n",
       "      <td>63360</td>\n",
       "      <td>62304</td>\n",
       "      <td>60876</td>\n",
       "      <td>58320</td>\n",
       "      <td>57084</td>\n",
       "    </tr>\n",
       "    <tr>\n",
       "      <th>36</th>\n",
       "      <td>2013-01-01</td>\n",
       "      <td>Jupiter</td>\n",
       "      <td>1617</td>\n",
       "      <td>1298</td>\n",
       "      <td>1144</td>\n",
       "      <td>1089</td>\n",
       "      <td>1034</td>\n",
       "      <td>935</td>\n",
       "      <td>880</td>\n",
       "      <td>836</td>\n",
       "      <td>...</td>\n",
       "      <td>726</td>\n",
       "      <td>715</td>\n",
       "      <td>693</td>\n",
       "      <td>693</td>\n",
       "      <td>627</td>\n",
       "      <td>616</td>\n",
       "      <td>649</td>\n",
       "      <td>638</td>\n",
       "      <td>594</td>\n",
       "      <td>616</td>\n",
       "    </tr>\n",
       "  </tbody>\n",
       "</table>\n",
       "<p>2 rows × 25 columns</p>\n",
       "</div>"
      ],
      "text/plain": [
       "       Cohort   Planet      M0      M1      M2     M3     M4     M5     M6  \\\n",
       "35 2013-01-01    Earth  127020  111528  102456  97512  94140  90432  86124   \n",
       "36 2013-01-01  Jupiter    1617    1298    1144   1089   1034    935    880   \n",
       "\n",
       "       M7  ...      M13    M14    M15    M16    M17    M18    M19    M20  \\\n",
       "35  84732  ...    72144  70368  68052  65628  64332  63360  62304  60876   \n",
       "36    836  ...      726    715    693    693    627    616    649    638   \n",
       "\n",
       "      M21    M22  \n",
       "35  58320  57084  \n",
       "36    594    616  \n",
       "\n",
       "[2 rows x 25 columns]"
      ]
     },
     "execution_count": 82,
     "metadata": {},
     "output_type": "execute_result"
    }
   ],
   "source": [
    "data = grouped.sort_values(by='Cohort')\n",
    "data.head(2)"
   ]
  },
  {
   "cell_type": "markdown",
   "metadata": {},
   "source": [
    "# Responses to dashboard project\n",
    "# 1. Subscribers"
   ]
  },
  {
   "cell_type": "markdown",
   "metadata": {},
   "source": [
    "### Questions\n",
    "- Which planet had the most subscribers sign up for the trial in 2013? \n",
    "- In 2014 (through November)? \n",
    "- Which planet grew trial subscribers the most?"
   ]
  },
  {
   "cell_type": "code",
   "execution_count": 67,
   "metadata": {
    "collapsed": false
   },
   "outputs": [
    {
     "name": "stdout",
     "output_type": "stream",
     "text": [
      "Planet\n",
      "Earth      1663730\n",
      "Jupiter     239784\n",
      "Mars        354209\n",
      "Saturn     1076536\n",
      "Venus       454393\n",
      "Name: M0, dtype: int64\n"
     ]
    }
   ],
   "source": [
    "d13 = data[data.Cohort.dt.year == 2013]\n",
    "total13 = d13.groupby(d13.Planet).aggregate(np.sum).M0\n",
    "print total13"
   ]
  },
  {
   "cell_type": "code",
   "execution_count": 70,
   "metadata": {
    "collapsed": false,
    "scrolled": true
   },
   "outputs": [
    {
     "data": {
      "text/plain": [
       "<matplotlib.text.Text at 0x10dc6b410>"
      ]
     },
     "execution_count": 70,
     "metadata": {},
     "output_type": "execute_result"
    },
    {
     "data": {
      "image/png": "[encoded data removed]",
      "text/plain": [
       "<matplotlib.figure.Figure at 0x10dce0fd0>"
      ]
     },
     "metadata": {},
     "output_type": "display_data"
    }
   ],
   "source": [
    "total13.plot(kind='bar')\n",
    "plt.title(\"Number of trial subscribers per planet - Year 2013\")"
   ]
  },
  {
   "cell_type": "markdown",
   "metadata": {},
   "source": [
    "###### Question:\n",
    "Which planet had the most subscribers sign up for the trial in 2013? \n",
    "###### Response:\n",
    "For year 2013 column M0 (signed up for trial in given month) is the highest on **planet earth**"
   ]
  },
  {
   "cell_type": "code",
   "execution_count": 71,
   "metadata": {
    "collapsed": false
   },
   "outputs": [
    {
     "name": "stdout",
     "output_type": "stream",
     "text": [
      "Planet\n",
      "Earth      1576911\n",
      "Jupiter     237706\n",
      "Mars        651293\n",
      "Saturn     1498415\n",
      "Venus      1190503\n",
      "Name: M0, dtype: int64\n"
     ]
    },
    {
     "data": {
      "image/png": "[encoded data removed]",
      "text/plain": [
       "<matplotlib.figure.Figure at 0x10de0d210>"
      ]
     },
     "metadata": {},
     "output_type": "display_data"
    }
   ],
   "source": [
    "d14 = data[data.Cohort.dt.year == 2014]\n",
    "total14 = d14.groupby(d14.Planet).aggregate(np.sum).M0\n",
    "total14.plot(kind='bar')\n",
    "plt.title(\"Number of trial subscribers per planet - Year 2014\")\n",
    "print total14"
   ]
  },
  {
   "cell_type": "markdown",
   "metadata": {},
   "source": [
    "###### Question:\n",
    "- Which planet had the most subscribers sign up for the trial in 2014? \n",
    "\n",
    "###### Response:\n",
    "- **earth** has the highest total number of subscribers in 2014"
   ]
  },
  {
   "cell_type": "code",
   "execution_count": 44,
   "metadata": {
    "collapsed": false
   },
   "outputs": [
    {
     "name": "stdout",
     "output_type": "stream",
     "text": [
      "Planet\n",
      "Earth      -86819\n",
      "Jupiter     -2078\n",
      "Mars       297084\n",
      "Saturn     421879\n",
      "Venus      736110\n",
      "Name: M0, dtype: int64\n"
     ]
    },
    {
     "data": {
      "text/plain": [
       "<matplotlib.axes._subplots.AxesSubplot at 0x107088dd0>"
      ]
     },
     "execution_count": 44,
     "metadata": {},
     "output_type": "execute_result"
    },
    {
     "data": {
      "image/png": "[encoded data removed]",
      "text/plain": [
       "<matplotlib.figure.Figure at 0x10e0ae650>"
      ]
     },
     "metadata": {},
     "output_type": "display_data"
    }
   ],
   "source": [
    "increase = total14-total13\n",
    "print increase\n",
    "increase.plot(kind='bar')"
   ]
  },
  {
   "cell_type": "markdown",
   "metadata": {},
   "source": [
    "#### Question:\n",
    "- Which planet grew trial subscribers the most?\n",
    "\n",
    "#### Response:\n",
    "- **Venus** grew more subscribers (+736110 users in a year)"
   ]
  },
  {
   "cell_type": "markdown",
   "metadata": {},
   "source": [
    "# 2. & 3. Conversion rate"
   ]
  },
  {
   "cell_type": "markdown",
   "metadata": {},
   "source": [
    "## Questions\n",
    "- From January 2013 to November 2014, what was the conversion rate from trial to 1st month’s payment for each planet?\n",
    "- (not in the data) What are some factors that could cause the conversion rate to differ between 2 planets?  (2-3 examples)\n",
    "- As a paid subscription service, conversion from trial to paid is obviously a very important metric. What kind of dashboard would you create that would dfdemonstrate this KPI for senior leaders at the company? Provide an example using the data provided.\n"
   ]
  },
  {
   "cell_type": "code",
   "execution_count": 48,
   "metadata": {
    "collapsed": false
   },
   "outputs": [
    {
     "data": {
      "text/html": [
       "<div>\n",
       "<table border=\"1\" class=\"dataframe\">\n",
       "  <thead>\n",
       "    <tr style=\"text-align: right;\">\n",
       "      <th></th>\n",
       "      <th>M0</th>\n",
       "      <th>M1</th>\n",
       "      <th>M2</th>\n",
       "      <th>M3</th>\n",
       "      <th>M4</th>\n",
       "      <th>M5</th>\n",
       "      <th>M6</th>\n",
       "      <th>M7</th>\n",
       "      <th>M8</th>\n",
       "      <th>M9</th>\n",
       "      <th>...</th>\n",
       "      <th>M13</th>\n",
       "      <th>M14</th>\n",
       "      <th>M15</th>\n",
       "      <th>M16</th>\n",
       "      <th>M17</th>\n",
       "      <th>M18</th>\n",
       "      <th>M19</th>\n",
       "      <th>M20</th>\n",
       "      <th>M21</th>\n",
       "      <th>M22</th>\n",
       "    </tr>\n",
       "    <tr>\n",
       "      <th>Planet</th>\n",
       "      <th></th>\n",
       "      <th></th>\n",
       "      <th></th>\n",
       "      <th></th>\n",
       "      <th></th>\n",
       "      <th></th>\n",
       "      <th></th>\n",
       "      <th></th>\n",
       "      <th></th>\n",
       "      <th></th>\n",
       "      <th></th>\n",
       "      <th></th>\n",
       "      <th></th>\n",
       "      <th></th>\n",
       "      <th></th>\n",
       "      <th></th>\n",
       "      <th></th>\n",
       "      <th></th>\n",
       "      <th></th>\n",
       "      <th></th>\n",
       "      <th></th>\n",
       "    </tr>\n",
       "  </thead>\n",
       "  <tbody>\n",
       "    <tr>\n",
       "      <th>Earth</th>\n",
       "      <td>3240641</td>\n",
       "      <td>2741030</td>\n",
       "      <td>2486102</td>\n",
       "      <td>2199756</td>\n",
       "      <td>2042326</td>\n",
       "      <td>1894257</td>\n",
       "      <td>1753605</td>\n",
       "      <td>1608604</td>\n",
       "      <td>1478768</td>\n",
       "      <td>1328461</td>\n",
       "      <td>...</td>\n",
       "      <td>818269</td>\n",
       "      <td>736580</td>\n",
       "      <td>639363</td>\n",
       "      <td>542880</td>\n",
       "      <td>455378</td>\n",
       "      <td>372263</td>\n",
       "      <td>270047</td>\n",
       "      <td>184822</td>\n",
       "      <td>124607</td>\n",
       "      <td>57084</td>\n",
       "    </tr>\n",
       "    <tr>\n",
       "      <th>Jupiter</th>\n",
       "      <td>477490</td>\n",
       "      <td>395295</td>\n",
       "      <td>351255</td>\n",
       "      <td>317290</td>\n",
       "      <td>286958</td>\n",
       "      <td>263848</td>\n",
       "      <td>238269</td>\n",
       "      <td>208515</td>\n",
       "      <td>186782</td>\n",
       "      <td>162482</td>\n",
       "      <td>...</td>\n",
       "      <td>85029</td>\n",
       "      <td>65811</td>\n",
       "      <td>56150</td>\n",
       "      <td>42232</td>\n",
       "      <td>25362</td>\n",
       "      <td>15386</td>\n",
       "      <td>8606</td>\n",
       "      <td>4576</td>\n",
       "      <td>1962</td>\n",
       "      <td>616</td>\n",
       "    </tr>\n",
       "    <tr>\n",
       "      <th>Mars</th>\n",
       "      <td>1005502</td>\n",
       "      <td>811449</td>\n",
       "      <td>740690</td>\n",
       "      <td>614625</td>\n",
       "      <td>522103</td>\n",
       "      <td>460286</td>\n",
       "      <td>402023</td>\n",
       "      <td>321164</td>\n",
       "      <td>287702</td>\n",
       "      <td>243854</td>\n",
       "      <td>...</td>\n",
       "      <td>102197</td>\n",
       "      <td>78845</td>\n",
       "      <td>65211</td>\n",
       "      <td>49407</td>\n",
       "      <td>30613</td>\n",
       "      <td>21046</td>\n",
       "      <td>14101</td>\n",
       "      <td>8242</td>\n",
       "      <td>4534</td>\n",
       "      <td>1608</td>\n",
       "    </tr>\n",
       "    <tr>\n",
       "      <th>Saturn</th>\n",
       "      <td>2574951</td>\n",
       "      <td>2063540</td>\n",
       "      <td>1812345</td>\n",
       "      <td>1545472</td>\n",
       "      <td>1349886</td>\n",
       "      <td>1215759</td>\n",
       "      <td>1083886</td>\n",
       "      <td>951781</td>\n",
       "      <td>848821</td>\n",
       "      <td>743503</td>\n",
       "      <td>...</td>\n",
       "      <td>382707</td>\n",
       "      <td>318715</td>\n",
       "      <td>272854</td>\n",
       "      <td>224248</td>\n",
       "      <td>168266</td>\n",
       "      <td>118961</td>\n",
       "      <td>76705</td>\n",
       "      <td>54800</td>\n",
       "      <td>30464</td>\n",
       "      <td>10406</td>\n",
       "    </tr>\n",
       "    <tr>\n",
       "      <th>Venus</th>\n",
       "      <td>1644896</td>\n",
       "      <td>1408535</td>\n",
       "      <td>1264727</td>\n",
       "      <td>1118598</td>\n",
       "      <td>997886</td>\n",
       "      <td>880487</td>\n",
       "      <td>782663</td>\n",
       "      <td>644235</td>\n",
       "      <td>544037</td>\n",
       "      <td>417050</td>\n",
       "      <td>...</td>\n",
       "      <td>157400</td>\n",
       "      <td>104775</td>\n",
       "      <td>78140</td>\n",
       "      <td>57267</td>\n",
       "      <td>36120</td>\n",
       "      <td>21988</td>\n",
       "      <td>11837</td>\n",
       "      <td>5639</td>\n",
       "      <td>2658</td>\n",
       "      <td>40</td>\n",
       "    </tr>\n",
       "  </tbody>\n",
       "</table>\n",
       "<p>5 rows × 23 columns</p>\n",
       "</div>"
      ],
      "text/plain": [
       "              M0       M1       M2       M3       M4       M5       M6  \\\n",
       "Planet                                                                   \n",
       "Earth    3240641  2741030  2486102  2199756  2042326  1894257  1753605   \n",
       "Jupiter   477490   395295   351255   317290   286958   263848   238269   \n",
       "Mars     1005502   811449   740690   614625   522103   460286   402023   \n",
       "Saturn   2574951  2063540  1812345  1545472  1349886  1215759  1083886   \n",
       "Venus    1644896  1408535  1264727  1118598   997886   880487   782663   \n",
       "\n",
       "              M7       M8       M9  ...       M13     M14     M15     M16  \\\n",
       "Planet                              ...                                     \n",
       "Earth    1608604  1478768  1328461  ...    818269  736580  639363  542880   \n",
       "Jupiter   208515   186782   162482  ...     85029   65811   56150   42232   \n",
       "Mars      321164   287702   243854  ...    102197   78845   65211   49407   \n",
       "Saturn    951781   848821   743503  ...    382707  318715  272854  224248   \n",
       "Venus     644235   544037   417050  ...    157400  104775   78140   57267   \n",
       "\n",
       "            M17     M18     M19     M20     M21    M22  \n",
       "Planet                                                  \n",
       "Earth    455378  372263  270047  184822  124607  57084  \n",
       "Jupiter   25362   15386    8606    4576    1962    616  \n",
       "Mars      30613   21046   14101    8242    4534   1608  \n",
       "Saturn   168266  118961   76705   54800   30464  10406  \n",
       "Venus     36120   21988   11837    5639    2658     40  \n",
       "\n",
       "[5 rows x 23 columns]"
      ]
     },
     "execution_count": 48,
     "metadata": {},
     "output_type": "execute_result"
    }
   ],
   "source": [
    "cv = data.groupby('Planet').aggregate(np.sum)\n",
    "cv.head()"
   ]
  },
  {
   "cell_type": "markdown",
   "metadata": {},
   "source": [
    "#### Question:\n",
    "From January 2013 to November 2014, what was the conversion rate from trial to 1st month’s payment for each planet?\n",
    "#### Response:\n",
    "Conversion rate for each planet for 2013 and 2014 (c.f. below):"
   ]
  },
  {
   "cell_type": "code",
   "execution_count": 79,
   "metadata": {
    "collapsed": false
   },
   "outputs": [
    {
     "name": "stdout",
     "output_type": "stream",
     "text": [
      "Planet\n",
      "Earth      0.845830\n",
      "Jupiter    0.827860\n",
      "Mars       0.807009\n",
      "Saturn     0.801390\n",
      "Venus      0.856306\n",
      "dtype: float64\n"
     ]
    }
   ],
   "source": [
    "rate = cv.M1/cv.M0\n",
    "print rate"
   ]
  },
  {
   "cell_type": "markdown",
   "metadata": {},
   "source": [
    "#### Question:\n",
    "- (not in the data) What are some factors that could cause the conversion rate to differ between 2 planets? (2-3 examples)\n",
    "\n",
    "#### Response:\n",
    "many factors could influence the conversion rate among them:\n",
    "- **demographics**: some planets might be populated by inhabitants with lower income\n",
    "- **marketing**: marketing might need to be individualized to specific planets to take into account idiosyncrasies of specific planet's cultures\n",
    "- the lack of air on some planets might prevent the propagation of audible sound ;-)"
   ]
  },
  {
   "cell_type": "markdown",
   "metadata": {},
   "source": [
    "##### Question:\n",
    "As a paid subscription service, conversion from trial to paid is obviously a very important metric. What kind of dashboard would you create that would dfdemonstrate this KPI for senior leaders at the company? Provide an example using the data provided.\n",
    "\n",
    "##### Response:\n",
    "Visualization of conversion rate for each planet (dashboard):"
   ]
  },
  {
   "cell_type": "code",
   "execution_count": 78,
   "metadata": {
    "collapsed": false
   },
   "outputs": [
    {
     "data": {
      "text/plain": [
       "<matplotlib.text.Text at 0x10c2a3dd0>"
      ]
     },
     "execution_count": 78,
     "metadata": {},
     "output_type": "execute_result"
    },
    {
     "data": {
      "image/png": "[encoded data removed]",
      "text/plain": [
       "<matplotlib.figure.Figure at 0x106da4150>"
      ]
     },
     "metadata": {},
     "output_type": "display_data"
    }
   ],
   "source": [
    "rate.plot(kind='bar', alpha=0.5)\n",
    "plt.title(\"KPI: Conversion rate per planet\")\n",
    "plt.ylabel(\"Conversion rate\")"
   ]
  },
  {
   "cell_type": "markdown",
   "metadata": {},
   "source": [
    "# 4. Churn"
   ]
  },
  {
   "cell_type": "markdown",
   "metadata": {},
   "source": [
    "#### Question:\n",
    "After conversion, the next key metric for us is churn which informs customer lifetime value (LTV). The textbook answer to how churn relates to LTV is LTV = (1/churn) * gross margin. In our case, why can’t we use this methodology to calculate LTV?\n",
    "\n",
    "#### Response:\n",
    "We have no information on the cost associated with the customer relationship (e.g. retention spending) so we cannot compute margin"
   ]
  },
  {
   "cell_type": "markdown",
   "metadata": {},
   "source": [
    "# 5. Engagement"
   ]
  },
  {
   "cell_type": "markdown",
   "metadata": {},
   "source": [
    "##### Question:\n",
    "It’s obviously very important that we keep a pulse on key metrics like subscriber growth, conversion and churn. We also keep a close watch on user engagement. There are many ways to measure engagement, but the most important for us is # of tracks streamed.  This being the case, how would you design a dashboard that would best provide a snapshot of this metric? Feel free to use fake numbers to demonstrate."
   ]
  },
  {
   "cell_type": "code",
   "execution_count": 85,
   "metadata": {
    "collapsed": false
   },
   "outputs": [
    {
     "data": {
      "image/png": "[encoded data removed]",
      "text/plain": [
       "<IPython.core.display.Image object>"
      ]
     },
     "execution_count": 85,
     "metadata": {},
     "output_type": "execute_result"
    }
   ],
   "source": [
    "Image(\"engagement.png\")"
   ]
  },
  {
   "cell_type": "markdown",
   "metadata": {},
   "source": [
    "# 6. Segmentation\n",
    "#### Questions:\n",
    "Now let’s say we wanted to do a segmentation based on tracks streamed. What are some ways you might segment our subscribers based on this metric? (2-3 examples)"
   ]
  },
  {
   "cell_type": "markdown",
   "metadata": {},
   "source": [
    "#### Response:\n",
    "We could segment by e.g. :\n",
    "- < 10 songs a month, < 10 songs a week, < 10 songs a day, >10 songs day\n",
    "- "
   ]
  },
  {
   "cell_type": "code",
   "execution_count": null,
   "metadata": {
    "collapsed": true
   },
   "outputs": [],
   "source": []
  }
 ],
 "metadata": {
  "kernelspec": {
   "display_name": "Python 2",
   "language": "python",
   "name": "python2"
  },
  "language_info": {
   "codemirror_mode": {
    "name": "ipython",
    "version": 2
   },
   "file_extension": ".py",
   "mimetype": "text/x-python",
   "name": "python",
   "nbconvert_exporter": "python",
   "pygments_lexer": "ipython2",
   "version": "2.7.10"
  }
 },
 "nbformat": 4,
 "nbformat_minor": 0
}
